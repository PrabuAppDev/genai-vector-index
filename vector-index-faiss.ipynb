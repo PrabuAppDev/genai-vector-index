{
 "cells": [
  {
   "cell_type": "code",
   "execution_count": 1,
   "id": "83b2b22e-fbfb-4266-a32a-f45af7453445",
   "metadata": {},
   "outputs": [
    {
     "name": "stdout",
     "output_type": "stream",
     "text": [
      "Requirement already satisfied: faiss-cpu in c:\\programdata\\anaconda3\\lib\\site-packages (1.9.0)\n",
      "Requirement already satisfied: numpy<3.0,>=1.25.0 in c:\\programdata\\anaconda3\\lib\\site-packages (from faiss-cpu) (1.26.4)\n",
      "Requirement already satisfied: packaging in c:\\programdata\\anaconda3\\lib\\site-packages (from faiss-cpu) (24.1)\n"
     ]
    }
   ],
   "source": [
    "!pip install faiss-cpu"
   ]
  },
  {
   "cell_type": "code",
   "execution_count": 2,
   "id": "6128f403-4977-44f9-9940-a5a329881da8",
   "metadata": {},
   "outputs": [],
   "source": [
    "# Define the example documents for this final demonstration.\n",
    "documents = {\n",
    "    0: \"This document discusses space exploration, including missions to the moon and Mars.\",\n",
    "    1: \"This document covers the latest advancements in artificial intelligence and machine learning.\",\n",
    "    2: \"This document explains new developments in satellite technology, including communication satellites.\",\n",
    "    3: \"This document mentions how satellite data processing benefits from AI optimizations, improving efficiency.\",\n",
    "    4: \"This document details early space probes that laid the groundwork for modern satellite systems.\"\n",
    "}"
   ]
  },
  {
   "cell_type": "code",
   "execution_count": 3,
   "id": "dd435301-025a-4d13-8ea2-1588d99eecb1",
   "metadata": {},
   "outputs": [
    {
     "name": "stdout",
     "output_type": "stream",
     "text": [
      "Index contains 3 vectors.\n"
     ]
    }
   ],
   "source": [
    "import faiss\n",
    "import numpy as np\n",
    "\n",
    "# Generate example embeddings (assuming these were obtained using a model like OpenAI's)\n",
    "# Replace this with your actual embedding generation process\n",
    "embeddings = [\n",
    "    np.random.rand(512).astype(\"float32\"),  # Example embedding 1\n",
    "    np.random.rand(512).astype(\"float32\"),  # Example embedding 2\n",
    "    np.random.rand(512).astype(\"float32\"),  # Example embedding 3\n",
    "]\n",
    "\n",
    "# Convert embeddings to a numpy array\n",
    "embeddings_matrix = np.array(embeddings)\n",
    "# Create an index in Faiss (index with L2 distance)\n",
    "index = faiss.IndexFlatL2(embeddings_matrix.shape[1])\n",
    "index.add(embeddings_matrix)\n",
    "print(f\"Index contains {index.ntotal} vectors.\")"
   ]
  },
  {
   "cell_type": "code",
   "execution_count": 4,
   "id": "86ab89d6-7d59-4259-8b3f-73027fd1ec14",
   "metadata": {},
   "outputs": [
    {
     "name": "stdout",
     "output_type": "stream",
     "text": [
      "Indices of similar vectors: [[2 1 0]]\n",
      "Distances to similar vectors: [[82.53887 86.00719 91.60208]]\n"
     ]
    }
   ],
   "source": [
    "def search_similar_embeddings(query_vector, top_k=3):\n",
    "    # Ensure query vector is in the correct shape\n",
    "    query_vector = np.array(query_vector).reshape(1, -1).astype(\"float32\")\n",
    "    # Perform a similarity search\n",
    "    distances, indices = index.search(query_vector, top_k)\n",
    "    return distances, indices\n",
    "\n",
    "# Example usage of the search function\n",
    "example_query = np.random.rand(512).astype(\"float32\")\n",
    "distances, indices = search_similar_embeddings(example_query)\n",
    "print(f\"Indices of similar vectors: {indices}\")\n",
    "print(f\"Distances to similar vectors: {distances}\")\n"
   ]
  },
  {
   "cell_type": "code",
   "execution_count": 5,
   "id": "c8365fbb-e1d8-48a7-982b-53bc6d8a3efb",
   "metadata": {},
   "outputs": [],
   "source": [
    "import networkx as nx\n",
    "\n",
    "# Create a refined graph for relationships.\n",
    "graph_db = nx.Graph()\n",
    "\n",
    "def set_redefined_graph():\n",
    "    graph_db.clear()\n",
    "    # Specific connections for demonstration\n",
    "    graph_db.add_edge(2, 3)  # Document 2 (satellite tech) ↔ Document 3 (AI integration)\n",
    "    graph_db.add_edge(2, 4)  # Document 2 (satellite tech) ↔ Document 4 (historical link)\n",
    "    graph_db.add_edge(0, 4)  # Document 0 (space exploration) ↔ Document 4 (probe history)\n",
    "\n",
    "# Initialize the graph\n",
    "set_redefined_graph()\n",
    "\n",
    "# Function to query related documents from the graph.\n",
    "def get_related_docs_from_graph(doc_id):\n",
    "    return list(graph_db.neighbors(doc_id))"
   ]
  },
  {
   "cell_type": "code",
   "execution_count": 6,
   "id": "03b20cbc-a870-4fe4-b8d0-92573102275e",
   "metadata": {},
   "outputs": [],
   "source": [
    "def respond_to_prompt_using_combined():\n",
    "    top_doc = 2  # Assume best match from vector search\n",
    "    related_docs = get_related_docs_from_graph(top_doc)\n",
    "    \n",
    "    top_doc_content = documents.get(top_doc, \"Content not found\")\n",
    "    \n",
    "    # Selective, relevant additions only:\n",
    "    selected_related = []\n",
    "    for doc_id in related_docs:\n",
    "        if \"satellite\" in documents.get(doc_id, \"\").lower() or \"data processing\" in documents.get(doc_id, \"\").lower():\n",
    "            selected_related.append(documents.get(doc_id))\n",
    "    \n",
    "    related_content_text = \"\\n\".join(selected_related) if selected_related else \"No extended context available.\"\n",
    "    \n",
    "    response = (\n",
    "        f\"Main Information (Key relevance):\\n{top_doc_content}\\n\\n\"\n",
    "        f\"Supplemented Insight Through Graph (Purposeful extension):\\n{related_content_text}\"\n",
    "    )\n",
    "    return response"
   ]
  },
  {
   "cell_type": "code",
   "execution_count": 8,
   "id": "b1e75839-d84d-44bb-b163-755f5bb4ee65",
   "metadata": {},
   "outputs": [],
   "source": [
    "# Simple function that directly retrieves the main vector-matched document.\n",
    "def respond_to_prompt_using_vector_only():\n",
    "    top_doc = 2  # Use the vector-selected example\n",
    "    top_doc_content = documents.get(top_doc, \"Content not found\")\n",
    "    \n",
    "    response = f\"Main Information:\\n{top_doc_content}\"\n",
    "    return response"
   ]
  },
  {
   "cell_type": "code",
   "execution_count": 12,
   "id": "7673b3e4-3d0c-47fa-ad22-2f800a6c3d67",
   "metadata": {},
   "outputs": [],
   "source": [
    "# Function for graph-only connections, showing the entire network around selected doc.\n",
    "def respond_to_prompt_using_graph_only(top_doc_id):\n",
    "    related_docs = get_related_docs_from_graph(top_doc_id)\n",
    "    \n",
    "    related_content = [documents.get(doc_id, \"Content not found\") for doc_id in related_docs]\n",
    "    related_content_text = \"\\n\".join(related_content) if related_content else \"No extended context available.\"\n",
    "    \n",
    "    response = (\n",
    "        f\"Graph-only based output: Given Document {top_doc_id}, Linked items relate semantically:\\n{related_content_text}\\n\"\n",
    "        \"(Note: Direct query alignment might be less precise as graph ties expand rather than isolate exact satellite subject.)\"\n",
    "    )\n",
    "    return response"
   ]
  },
  {
   "cell_type": "code",
   "execution_count": 14,
   "id": "cab3ac7d-9fa8-4cca-8676-9e7d23fef552",
   "metadata": {},
   "outputs": [
    {
     "name": "stdout",
     "output_type": "stream",
     "text": [
      "=== Prompt: Tell me about the latest developments in satellite technology. ===\n",
      "\n",
      "=== Combined Approach ===\n",
      "Main Information (Key relevance):\n",
      "This document explains new developments in satellite technology, including communication satellites.\n",
      "\n",
      "Supplemented Insight Through Graph (Purposeful extension):\n",
      "This document mentions how satellite data processing benefits from AI optimizations, improving efficiency.\n",
      "This document details early space probes that laid the groundwork for modern satellite systems.\n",
      "\n",
      "=== Vector-Only Approach ===\n",
      "Main Information:\n",
      "This document explains new developments in satellite technology, including communication satellites.\n",
      "\n",
      "=== Graph-Only Approach ===\n",
      "Graph-only based output: Given Document 2, Linked items relate semantically:\n",
      "This document mentions how satellite data processing benefits from AI optimizations, improving efficiency.\n",
      "This document details early space probes that laid the groundwork for modern satellite systems.\n",
      "(Note: Direct query alignment might be less precise as graph ties expand rather than isolate exact satellite subject.)\n"
     ]
    }
   ],
   "source": [
    "def run_finalized_demo(prompt):\n",
    "    print(f\"=== Prompt: {prompt} ===\\n\")\n",
    "    \n",
    "    print(\"=== Combined Approach ===\")\n",
    "    combined_response = respond_to_prompt_using_combined()\n",
    "    print(combined_response)\n",
    "    \n",
    "    print(\"\\n=== Vector-Only Approach ===\")\n",
    "    vector_response = respond_to_prompt_using_vector_only()  # Use Document 2 primary retrieval\n",
    "    print(vector_response)\n",
    "    \n",
    "    print(\"\\n=== Graph-Only Approach ===\")\n",
    "    graph_response = respond_to_prompt_using_graph_only(2)  # Based on Document 2 as example\n",
    "    print(graph_response)\n",
    "\n",
    "# Execute the refined demonstration\n",
    "refined_prompt = \"Tell me about the latest developments in satellite technology.\"\n",
    "run_finalized_demo(refined_prompt)"
   ]
  },
  {
   "cell_type": "code",
   "execution_count": null,
   "id": "f7aec604-3867-44f7-8b40-fe9ff80be8b8",
   "metadata": {},
   "outputs": [],
   "source": []
  }
 ],
 "metadata": {
  "kernelspec": {
   "display_name": "Python 3",
   "language": "python",
   "name": "python3"
  },
  "language_info": {
   "codemirror_mode": {
    "name": "ipython",
    "version": 3
   },
   "file_extension": ".py",
   "mimetype": "text/x-python",
   "name": "python",
   "nbconvert_exporter": "python",
   "pygments_lexer": "ipython3",
   "version": "3.12.7"
  }
 },
 "nbformat": 4,
 "nbformat_minor": 5
}

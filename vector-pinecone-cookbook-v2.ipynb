{
 "cells": [
  {
   "cell_type": "code",
   "execution_count": 16,
   "id": "8ee67ee4-49d8-4f49-828a-4123bec49a61",
   "metadata": {},
   "outputs": [],
   "source": [
    "# Required Imports\n",
    "import os\n",
    "import openai\n",
    "from pinecone import Pinecone, ServerlessSpec"
   ]
  },
  {
   "cell_type": "code",
   "execution_count": 28,
   "id": "ceb09106-9532-4707-8ec1-7237c06bee75",
   "metadata": {},
   "outputs": [
    {
     "name": "stdout",
     "output_type": "stream",
     "text": [
      "Pinecone Index connected successfully!\n"
     ]
    }
   ],
   "source": [
    "from pinecone import Pinecone, ServerlessSpec\n",
    "import os\n",
    "\n",
    "# Initialize Pinecone instance using the updated method\n",
    "try:\n",
    "    pc = Pinecone(\n",
    "        api_key=os.environ.get(\"PINECONE_API_KEY\")  # Fetching from environment variables\n",
    "    )\n",
    "\n",
    "    # Create or connect to the index\n",
    "    index_name = \"satellite-search\"\n",
    "    if index_name not in pc.list_indexes().names():\n",
    "        pc.create_index(\n",
    "            name=index_name,\n",
    "            dimension=1536,  # Replace with the actual dimension of your embeddings\n",
    "            metric=\"cosine\",\n",
    "            spec=ServerlessSpec(\n",
    "                cloud=\"aws\",   # Use a cloud provider supported by your plan (e.g., 'aws', 'gcp')\n",
    "                region=\"us-east-1\"  # Update to a region available on your plan (check Pinecone Console for options)\n",
    "            )\n",
    "        )\n",
    "\n",
    "    # Connect to the index\n",
    "    index = pc.Index(index_name)\n",
    "    print(\"Pinecone Index connected successfully!\")\n",
    "except Exception as e:\n",
    "    print(\"Pinecone Initialization Failed:\", e)"
   ]
  },
  {
   "cell_type": "code",
   "execution_count": 34,
   "id": "4fe2b29c-cbed-4dc3-ae2e-879295d88303",
   "metadata": {},
   "outputs": [
    {
     "name": "stdout",
     "output_type": "stream",
     "text": [
      "Token count: 8\n",
      "Embedding successful: [-0.002322586951777339, 0.007827353663742542, 0.00771274184808135, -0.008097030222415924, 0.0038226612377911806]\n",
      "Embedding for 'doc1' stored successfully!\n"
     ]
    }
   ],
   "source": [
    "from openai import OpenAI\n",
    "\n",
    "# Initialize OpenAI Client\n",
    "client = OpenAI(api_key=os.getenv(\"OPENAI_API_KEY\"))\n",
    "\n",
    "# Function to embed a document using OpenAI Client\n",
    "def embed_document(text):\n",
    "    token_count = count_tokens(text)\n",
    "    if token_count < 1000:\n",
    "        try:\n",
    "            response = client.embeddings.create(\n",
    "                model=\"text-embedding-ada-002\",\n",
    "                input=[text]\n",
    "            )\n",
    "            # Correct way to access the embeddings\n",
    "            embeddings = response.data[0].embedding\n",
    "            print(\"Embedding successful:\", embeddings[:5])  # Show a sample of the embedding\n",
    "            return embeddings\n",
    "        except Exception as e:\n",
    "            print(\"OpenAI request failed:\", e)\n",
    "            return None\n",
    "    else:\n",
    "        print(\"Input too lengthy, please shorten it.\")\n",
    "        return None\n",
    "\n",
    "# Example usage\n",
    "text_input = \"New developments in AI enhance satellite technology.\"\n",
    "embedding = embed_document(text_input)\n",
    "\n",
    "# Check if embedding was successful\n",
    "if isinstance(embedding, list):\n",
    "    store_embedding_in_pinecone(\"doc1\", embedding)\n",
    "else:\n",
    "    print(\"Error: Embedding is not in a valid list format.\")"
   ]
  },
  {
   "cell_type": "code",
   "execution_count": 46,
   "id": "25211d73-5e00-4658-a377-fbc4589029f1",
   "metadata": {},
   "outputs": [
    {
     "name": "stdout",
     "output_type": "stream",
     "text": [
      "Token count: 6\n",
      "Embedding successful: [0.0040581729263067245, 0.004708980210125446, 0.000188044024980627, -0.006528513506054878, -0.0011840597726404667]\n",
      "\n",
      "Search Results:\n",
      "ID: doc1, Score: 0.973274291, Text: New developments in AI enhance satellite technology.\n",
      "ID: doc2, Score: 0.944378734, Text: New developments in AI enhance satellite technology.\n",
      "ID: doc3, Score: 0.931232691, Text: New developments in AI enhance satellite technology.\n"
     ]
    }
   ],
   "source": [
    "# Function to search Pinecone using a query text\n",
    "def search_in_pinecone(query_text, top_k=3):\n",
    "    query_embedding = embed_document(query_text)\n",
    "    \n",
    "    if not isinstance(query_embedding, list):\n",
    "        print(\"Error generating query embedding.\")\n",
    "        return\n",
    "    \n",
    "    # Perform the query\n",
    "    try:\n",
    "        result = index.query(\n",
    "            vector=query_embedding,\n",
    "            top_k=top_k,\n",
    "            namespace=\"ns1\",\n",
    "            include_metadata=True\n",
    "        )\n",
    "        \n",
    "        # Display search results\n",
    "        print(\"\\nSearch Results:\")\n",
    "        if result and result.get('matches'):\n",
    "            for match in result['matches']:\n",
    "                print(f\"ID: {match['id']}, Score: {match['score']}, Text: {match['metadata'].get('text', 'N/A')}\")\n",
    "        else:\n",
    "            print(\"No results found.\")\n",
    "    except Exception as e:\n",
    "        print(\"Failed to search in Pinecone:\", e)\n",
    "\n",
    "# Example usage\n",
    "search_in_pinecone(\"How AI enhances satellite technology.\")"
   ]
  },
  {
   "cell_type": "code",
   "execution_count": 48,
   "id": "e8fc86ce-9ce1-4158-9273-c16b7de91e01",
   "metadata": {},
   "outputs": [
    {
     "name": "stdout",
     "output_type": "stream",
     "text": [
      "Token count: 6\n",
      "Embedding successful: [-0.006524303928017616, 0.013479744084179401, 0.008299373090267181, -0.007760452572256327, -0.002101789228618145]\n",
      "\n",
      "=== Search Results ===\n",
      "ID: doc1, Score: 0.93795687, Text: New developments in AI enhance satellite technology.\n",
      "ID: doc3, Score: 0.91320616, Text: New developments in AI enhance satellite technology.\n",
      "ID: doc2, Score: 0.89876163, Text: New developments in AI enhance satellite technology.\n"
     ]
    }
   ],
   "source": [
    "# Function to search without metadata filters for troubleshooting\n",
    "def enhanced_vector_search_no_filter(query_text, top_k=3):\n",
    "    # Embed the query text\n",
    "    query_embedding = embed_document(query_text)\n",
    "    if not isinstance(query_embedding, list):\n",
    "        print(\"Error generating query embedding.\")\n",
    "        return\n",
    "    \n",
    "    # Perform the search without any metadata filters\n",
    "    try:\n",
    "        result = index.query(\n",
    "            vector=query_embedding,\n",
    "            top_k=top_k,\n",
    "            namespace=\"ns1\",\n",
    "            include_metadata=True\n",
    "        )\n",
    "        print(\"\\n=== Search Results ===\")\n",
    "        if result.get(\"matches\"):\n",
    "            for match in result[\"matches\"]:\n",
    "                doc_id = match[\"id\"]\n",
    "                score = match[\"score\"]\n",
    "                text = match[\"metadata\"].get(\"text\")\n",
    "                print(f\"ID: {doc_id}, Score: {score}, Text: {text}\")\n",
    "        else:\n",
    "            print(\"No matches found.\")\n",
    "    except Exception as e:\n",
    "        print(\"Error during vector search:\", e)\n",
    "\n",
    "# Example usage\n",
    "enhanced_vector_search_no_filter(\"Latest advancements in satellite technology.\", top_k=3)"
   ]
  }
 ],
 "metadata": {
  "kernelspec": {
   "display_name": "Python 3",
   "language": "python",
   "name": "python3"
  },
  "language_info": {
   "codemirror_mode": {
    "name": "ipython",
    "version": 3
   },
   "file_extension": ".py",
   "mimetype": "text/x-python",
   "name": "python",
   "nbconvert_exporter": "python",
   "pygments_lexer": "ipython3",
   "version": "3.12.7"
  }
 },
 "nbformat": 4,
 "nbformat_minor": 5
}
